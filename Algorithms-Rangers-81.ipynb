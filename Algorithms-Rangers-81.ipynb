{
 "cells": [
  {
   "cell_type": "markdown",
   "metadata": {},
   "source": [
    "# Cl"
   ]
  },
  {
   "cell_type": "markdown",
   "metadata": {},
   "source": [
    "# Classic Algorithms"
   ]
  },
  {
   "cell_type": "markdown",
   "metadata": {},
   "source": [
    "## Tasks Today:\n",
    " \n",
    "1) <b>In-Place Algorithms</b> <br>\n",
    " &nbsp;&nbsp;&nbsp;&nbsp; a) Syntax <br>\n",
    " &nbsp;&nbsp;&nbsp;&nbsp; a) Out of Place Algorithm <br>\n",
    " &nbsp;&nbsp;&nbsp;&nbsp; b) In-Class Exercise #1 <br>\n",
    "2) <b>Two Pointers</b> <br>\n",
    "3) <b>Linked Lists</b> <br>\n",
    "4) <b>Merge Sort</b> <br>\n",
    " &nbsp;&nbsp;&nbsp;&nbsp; a) Video on Algorithms <br>\n",
    " &nbsp;&nbsp;&nbsp;&nbsp; b) How it Works <br>\n",
    "5) <b>Exercises</b> <br>\n",
    " &nbsp;&nbsp;&nbsp;&nbsp; a) Exercise #1 - Reverse a List in Place Using an In-Place Algorithm <br>\n",
    " &nbsp;&nbsp;&nbsp;&nbsp; b) Exercise #2 - Find Distinct Words <br>\n",
    " &nbsp;&nbsp;&nbsp;&nbsp; c) Exercise #3 - Write a program to implement a Linear Search Algorithm. <br>"
   ]
  },
  {
   "cell_type": "markdown",
   "metadata": {},
   "source": [
    "## In-Place Algorithms"
   ]
  },
  {
   "cell_type": "markdown",
   "metadata": {},
   "source": [
    "#### Syntax"
   ]
  },
  {
   "cell_type": "code",
   "execution_count": 1,
   "metadata": {},
   "outputs": [
    {
     "name": "stdout",
     "output_type": "stream",
     "text": [
      "[10, 20, 30] before swap\n",
      "[10, 30, 20] after swap\n"
     ]
    }
   ],
   "source": [
    "#var[i], var[i+1] = var[i+1], var[i]\n",
    "#Sometimes referred to as the Swap Algorithm\n",
    "\n",
    "def swap(alist, x, y):\n",
    "    \n",
    "    alist[x], alist[y] = alist[y], alist[x]\n",
    "    return alist\n",
    "\n",
    "my_list = [10, 20, 30]\n",
    "print(my_list, \"before swap\")\n",
    "\n",
    "#swap\n",
    "swap(my_list, 1, 2)\n",
    "print(my_list, \"after swap\")"
   ]
  },
  {
   "cell_type": "markdown",
   "metadata": {},
   "source": [
    "#### Out of Place Algorithm"
   ]
  },
  {
   "cell_type": "code",
   "execution_count": 4,
   "metadata": {},
   "outputs": [
    {
     "name": "stdout",
     "output_type": "stream",
     "text": [
      "[20, 30, 10]\n",
      "Before ['a', 'b', 'c', 'd']\n",
      "After ['d', 'c', 'b', 'a']\n"
     ]
    }
   ],
   "source": [
    "#reverse a list\n",
    "#create a reversed copy of the list\n",
    "\n",
    "\n",
    "my_list_copy = my_list[::-1]\n",
    "\n",
    "print(my_list_copy)\n",
    "\n",
    "array = ['a', 'b', 'c', 'd']\n",
    "new_array = ['a'] * len(array)\n",
    "print(\"Before\", array)\n",
    "\n",
    "length = len(array) - 1\n",
    "\n",
    "for i in range(length):\n",
    "    new_array[i] = array[length - i]\n",
    "    \n",
    "array = new_array\n",
    "print('After', array)"
   ]
  },
  {
   "cell_type": "markdown",
   "metadata": {},
   "source": [
    "#### In-Class Exercise #1 <br>\n",
    "<p>Write a function that takes in four arguments (list, index1, index2, index3), and swaps those three positions in the list passed in.</p>"
   ]
  },
  {
   "cell_type": "code",
   "execution_count": 8,
   "metadata": {},
   "outputs": [
    {
     "name": "stdout",
     "output_type": "stream",
     "text": [
      "[10, 8, 4, 3, 4, 2, 6]\n"
     ]
    }
   ],
   "source": [
    "l_1 = [10, 4, 3, 8, 4, 2, 6]\n",
    "\n",
    "def new_swap(arr, x, y, z):\n",
    "    arr[x], arr[y], arr[z] = arr[z], arr[x], arr[y]\n",
    "    return arr\n",
    "\n",
    "new_swap(l_1, 1, 2, 3)\n",
    "print(l_1)"
   ]
  },
  {
   "cell_type": "markdown",
   "metadata": {},
   "source": [
    "## Two Pointers"
   ]
  },
  {
   "cell_type": "markdown",
   "metadata": {},
   "source": [
    "#### Syntax"
   ]
  },
  {
   "cell_type": "code",
   "execution_count": 9,
   "metadata": {},
   "outputs": [
    {
     "data": {
      "text/plain": [
       "[22, 11, 4, 8, 9, 12, 3, 2, 1]"
      ]
     },
     "execution_count": 9,
     "metadata": {},
     "output_type": "execute_result"
    }
   ],
   "source": [
    "# alist[left], alist[right] = alist[right], alist[left]\n",
    "#use these pointers to swap while we loop (in most cases)\n",
    "\n",
    "def twoPointers(alist):\n",
    "    #create Pointers\n",
    "    left = 0\n",
    "    right = len(alist)-1\n",
    "    \n",
    "    while left <= right:\n",
    "        alist[left], alist[right] = alist[right], alist[left]\n",
    "        left += 1\n",
    "        right -= 1\n",
    "    return alist\n",
    "\n",
    "my_list2 = [1,2,3,12,9,8,4,11,22]\n",
    "\n",
    "twoPointers(my_list2)\n",
    "\n",
    "        "
   ]
  },
  {
   "cell_type": "markdown",
   "metadata": {},
   "source": [
    "#### Video of Algorithms <br>\n",
    "<p>Watch the video about algorithms.</p>\n",
    "\n",
    "https://www.youtube.com/watch?v=Q9HjeFD62Uk\n",
    "\n",
    "https://www.youtube.com/watch?v=kPRA0W1kECg\n",
    "\n",
    "https://www.youtube.com/watch?v=ZZuD6iUe3Pc"
   ]
  },
  {
   "cell_type": "markdown",
   "metadata": {},
   "source": [
    "# Sorting Algorithms"
   ]
  },
  {
   "cell_type": "markdown",
   "metadata": {},
   "source": [
    "#### Bubble Sort\n",
    "\n",
    "Worst Case: O(n^2) Time - O(1) Space"
   ]
  },
  {
   "cell_type": "code",
   "execution_count": 10,
   "metadata": {},
   "outputs": [
    {
     "data": {
      "text/plain": [
       "[1, 22, 34, 44, 55, 66, 88, 100]"
      ]
     },
     "execution_count": 10,
     "metadata": {},
     "output_type": "execute_result"
    }
   ],
   "source": [
    "def swap(i, j, array):\n",
    "    array[i], array[j] = array[j], array[i]\n",
    "    \n",
    "def bubbleSort(array):\n",
    "    isSorted = False # this is a flag\n",
    "    while not isSorted:\n",
    "        isSorted = True\n",
    "        for num in range(len(array) - 1):\n",
    "            if array[num] > array[num + 1]:\n",
    "                swap(num, num+1, array)\n",
    "                isSorted = False\n",
    "    return array\n",
    "\n",
    "bubbleSort([22,55,88,44,1,100,34,66])"
   ]
  },
  {
   "cell_type": "markdown",
   "metadata": {},
   "source": [
    "##### Insertion Sort\n",
    "\n",
    "Worst Case: O(n^2) time - O(1)space"
   ]
  },
  {
   "cell_type": "code",
   "execution_count": 12,
   "metadata": {},
   "outputs": [
    {
     "data": {
      "text/plain": [
       "[1, 22, 34, 44, 55, 66, 88, 100]"
      ]
     },
     "execution_count": 12,
     "metadata": {},
     "output_type": "execute_result"
    }
   ],
   "source": [
    "def swap(i, j, array):\n",
    "    array[i], array[j] = array[j], array[i]\n",
    "    \n",
    "def insertionSort(array):\n",
    "    for i in range(1, len(array)):\n",
    "        j = i\n",
    "        while j > 0 and array[j] < array[j-1]:\n",
    "            swap(j, j-1, array)\n",
    "            j -= 1\n",
    "    return array\n",
    "\n",
    "insertionSort([22,55,88,44,1,100,34,66])"
   ]
  },
  {
   "cell_type": "markdown",
   "metadata": {},
   "source": [
    "## Merge Sort"
   ]
  },
  {
   "cell_type": "markdown",
   "metadata": {},
   "source": [
    "#### How it Works"
   ]
  },
  {
   "cell_type": "code",
   "execution_count": 27,
   "metadata": {},
   "outputs": [
    {
     "name": "stdout",
     "output_type": "stream",
     "text": [
      "splitting... [4, 5, 20, 11, 20]\n",
      "splitting... [4, 5]\n",
      "splitting... [4]\n",
      "Merging: [4]\n",
      "splitting... [5]\n",
      "Merging: [5]\n",
      "Merging: [4, 5]\n",
      "splitting... [20, 11, 20]\n",
      "splitting... [20]\n",
      "Merging: [20]\n",
      "splitting... [11, 20]\n",
      "splitting... [11]\n",
      "Merging: [11]\n",
      "splitting... [20]\n",
      "Merging: [20]\n",
      "Merging: [11, 20]\n",
      "Merging: [11, 20, 20]\n",
      "Merging: [4, 5, 11, 20, 20]\n"
     ]
    },
    {
     "data": {
      "text/plain": [
       "[4, 5, 11, 20, 20]"
      ]
     },
     "execution_count": 27,
     "metadata": {},
     "output_type": "execute_result"
    }
   ],
   "source": [
    "# Step 1: split everything into it own group\n",
    "# Step 2: from left to right merge the groups together\n",
    "# Step 3: while merging, place each item in the correct position (within merged groups)\n",
    "# Step 4: continue steps 3-4 until one group left\n",
    "\n",
    "# from random import randint\n",
    "# nums = [randint(0, 20) for i in range(5)]\n",
    "\n",
    "# # write mergeSort\n",
    "# def mergeSort(array):\n",
    "#     print(\"splitting...\", array)\n",
    "    \n",
    "#     # Step 1: Divide the array into \"equal\" parts\n",
    "#     if len(array) > 1:\n",
    "#         mid = len(array) // 2\n",
    "#         leftHalf = array[:mid]\n",
    "#         rightHalf = array[mid:]\n",
    "        \n",
    "#         # recursively call mergeSort to perform split\n",
    "#         # then merge the lists once splits are done\n",
    "#         mergeSort(leftHalf)\n",
    "#         mergeSort(rightHalf)\n",
    "        \n",
    "#         #index pointers\n",
    "#         l = 0 # pointer for leftHalf\n",
    "#         r = 0 # pointer for rightHalf\n",
    "#         m = 0 # pointer for main array\n",
    "        \n",
    "#         # Step 2: Compare left and right halves\n",
    "#         while 1 < len(leftHalf) and r < len(rightHalf):\n",
    "#             if leftHalf[l] < rightHalf[r]:\n",
    "#                 array[m] = leftHalf[l]\n",
    "#                 l += 1\n",
    "#             else:\n",
    "#                 array[m] = rightHalf[r]\n",
    "#                 r += 1\n",
    "#             m += 1\n",
    "            \n",
    "#         # Step 3: While merging place items in correct position\n",
    "#         while l < len(leftHalf):\n",
    "#             array[m] = leftHalf[l]\n",
    "#             l += 1\n",
    "#             m += 1\n",
    "#         while r < len(rightHalf):\n",
    "#             array[m] = rightHalf[r]\n",
    "#             r += 1\n",
    "#             m += 1\n",
    "#     print(\"Merging: \", array)\n",
    "    \n",
    "#     return array\n",
    "\n",
    "# mergeSort(nums)\n",
    "\n",
    "from random import randint\n",
    "nums = [randint(0,20) for i in range(5)]\n",
    "\n",
    "#write mergeSort\n",
    "def mergeSort(array):\n",
    "    print('splitting...', array)\n",
    "\n",
    "    #Step 1: divide array into \"equal\" parts\n",
    "    if len(array) > 1:\n",
    "        mid = len(array) // 2\n",
    "        lefthalf = array[:mid]\n",
    "        righthalf = array[mid:]\n",
    "\n",
    "        # recursively call mergeSort to perform split\n",
    "        # then merge the list once split are done\n",
    "        mergeSort(lefthalf)\n",
    "        mergeSort(righthalf)\n",
    "\n",
    "        # index pointers\n",
    "        l = 0 # pointer for lefthalf\n",
    "        r = 0 #pointer for righthalf\n",
    "        m = 0 #pointer for main array\n",
    "\n",
    "        #Step 2: Compare left and right halves\n",
    "        while l < len(lefthalf) and r < len(righthalf):\n",
    "            if lefthalf[l] < righthalf[r]:\n",
    "                array[m] = lefthalf[l]\n",
    "                l += 1\n",
    "            else:\n",
    "                array[m] = righthalf[r]\n",
    "                r += 1\n",
    "            m += 1\n",
    "\n",
    "        # Step 3: while merging, place items in correct position\n",
    "        while l < len(lefthalf):\n",
    "            array[m] = lefthalf[l]\n",
    "            l += 1\n",
    "            m += 1\n",
    "        while r < len(righthalf):\n",
    "            array[m] = righthalf[r]\n",
    "            r += 1\n",
    "            m += 1\n",
    "    print('Merging:', array)\n",
    "\n",
    "\n",
    "\n",
    "    return array\n",
    "\n",
    "mergeSort(nums)"
   ]
  },
  {
   "cell_type": "markdown",
   "metadata": {},
   "source": [
    "# Binary Search\n",
    "\n",
    "The Binary Search algorithm works by finding the number in the middle of a given array and comparing it to the target. Given that the array is sorted\n",
    "\n",
    "* The worst case run time for this algorithm is `O(log(n))`"
   ]
  },
  {
   "cell_type": "code",
   "execution_count": 29,
   "metadata": {},
   "outputs": [
    {
     "data": {
      "text/plain": [
       "'The index is ... 7'"
      ]
     },
     "execution_count": 29,
     "metadata": {},
     "output_type": "execute_result"
    }
   ],
   "source": [
    "def binarySearchHelperFunction(array, target, left, right):\n",
    "    \n",
    "    while left <= right:\n",
    "        middle = (left + right) // 2\n",
    "        potentialMatch = array[middle]\n",
    "        if target == potentialMatch:\n",
    "            return f\"The index is ... {middle}\"\n",
    "        elif target < potentialMatch:\n",
    "            right = middle - 1\n",
    "        else:\n",
    "            left = middle + 1\n",
    "    return -1\n",
    "\n",
    "def binarySearch(array, target):\n",
    "    return binarySearchHelperFunction(array, target, 0, len(array) - 1)\n",
    "\n",
    "binarySearch(insertionSort([22,55,88,44,1,100,34,66]), 100)"
   ]
  },
  {
   "cell_type": "markdown",
   "metadata": {},
   "source": [
    "# Exercises"
   ]
  },
  {
   "cell_type": "markdown",
   "metadata": {},
   "source": [
    "### Exercise #1 <br>\n",
    "<p>Reverse the list below in-place using an in-place algorithm.<br>For extra credit: Reverse the strings at the same time.</p>"
   ]
  },
  {
   "cell_type": "code",
   "execution_count": 30,
   "metadata": {},
   "outputs": [
    {
     "name": "stdout",
     "output_type": "stream",
     "text": [
      "['.', 'ecnetnes', 'a', 'si', 'a']\n"
     ]
    }
   ],
   "source": [
    "words = ['this' , 'is', 'a', 'sentence', '.']\n",
    "\n",
    "def wordSwap(alist, x, y, z, a, b):\n",
    "    reversed = [i[::-1] for i in alist]\n",
    "    reversed[x], reversed[y], reversed[z], reversed[a], reversed[b] = reversed[b], reversed[a], reversed[z], reversed[y], reversed[z]\n",
    "    return reversed\n",
    "\n",
    "reversedList = wordSwap(words, 0, 1, 2, 3, 4)\n",
    "print(reversedList)"
   ]
  },
  {
   "cell_type": "markdown",
   "metadata": {},
   "source": [
    "### Exercise #2 <br>\n",
    "<p>Create a function that counts how many distinct words are in the string below, then outputs a dictionary with the words as the key and the value as the amount of times that word appears in the string.<br>Should output:<br>{'a': 5,<br>\n",
    " 'abstract': 1,<br>\n",
    " 'an': 3,<br>\n",
    " 'array': 2, ... etc...</p>"
   ]
  },
  {
   "cell_type": "code",
   "execution_count": 36,
   "metadata": {},
   "outputs": [
    {
     "name": "stdout",
     "output_type": "stream",
     "text": [
      "{'In': 1}\n",
      "{'computing,': 1}\n",
      "{'a': 4}\n",
      "{'hash': 4}\n",
      "{'table': 2}\n",
      "{'map': 2}\n",
      "{'is': 1}\n",
      "{'data': 2}\n",
      "{'structure': 2}\n",
      "{'which': 2}\n",
      "{'implements': 1}\n",
      "{'an': 3}\n",
      "{'associative': 1}\n",
      "{'array': 2}\n",
      "{'abstract': 1}\n",
      "{'type,': 1}\n",
      "{'that': 1}\n",
      "{'can': 2}\n",
      "{'keys': 1}\n",
      "{'to': 2}\n",
      "{'values.': 1}\n",
      "{'A': 1}\n",
      "{'uses': 1}\n",
      "{'function': 1}\n",
      "{'compute': 1}\n",
      "{'index': 1}\n",
      "{'into': 1}\n",
      "{'of': 1}\n",
      "{'buckets': 1}\n",
      "{'or': 1}\n",
      "{'slots': 1}\n",
      "{'from': 1}\n",
      "{'the': 1}\n",
      "{'desired': 1}\n",
      "{'value': 1}\n",
      "{'be': 1}\n",
      "{'found': 1}\n"
     ]
    }
   ],
   "source": [
    "a_text = 'In computing, a hash table hash map is a data structure which implements an associative array abstract data type, a structure that can map keys to values. A hash table uses a hash function to compute an index into an array of buckets or slots from which the desired value can be found'\n",
    "\n",
    "def distinctWords(string):\n",
    "    textList = a_text.split()\n",
    "    textListTwo = []\n",
    "    for i in textList:\n",
    "        if i not in textListTwo:\n",
    "            textListTwo.append(i)\n",
    "    for i in range(0, len(textListTwo)):\n",
    "        textDict = dict({textListTwo[i]: textList.count(textListTwo[i])})\n",
    "        print(textDict)\n",
    "\n",
    "    \n",
    "distinctWords(a_text)\n",
    "\n",
    "\n"
   ]
  },
  {
   "cell_type": "markdown",
   "metadata": {},
   "source": [
    "## Exercise #3\n",
    "\n",
    "Write a program to implement a Linear Search Algorithm. Also in a comment, write the Time Complexity of the following algorithm.\n",
    "\n",
    "#### Hint: Linear Searching will require searching a list for a given number. "
   ]
  },
  {
   "cell_type": "code",
   "execution_count": null,
   "metadata": {},
   "outputs": [],
   "source": [
    "def search(arr, n, x):\n",
    " \n",
    "    for i in range(0, n):\n",
    "        if (arr[i] == x):\n",
    "            return i\n",
    "    return -1\n",
    "\n",
    "#O(n)"
   ]
  }
 ],
 "metadata": {
  "kernelspec": {
   "display_name": "Python 3 (ipykernel)",
   "language": "python",
   "name": "python3"
  },
  "language_info": {
   "codemirror_mode": {
    "name": "ipython",
    "version": 3
   },
   "file_extension": ".py",
   "mimetype": "text/x-python",
   "name": "python",
   "nbconvert_exporter": "python",
   "pygments_lexer": "ipython3",
   "version": "3.9.7"
  }
 },
 "nbformat": 4,
 "nbformat_minor": 2
}
